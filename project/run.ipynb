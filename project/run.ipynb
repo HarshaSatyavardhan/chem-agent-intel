{
 "cells": [
  {
   "cell_type": "code",
   "execution_count": null,
   "metadata": {},
   "outputs": [],
   "source": [
    "!ngrok config add-authtoken 2660HfRduxkI7vzwg3RZwNTVFhc_7WshLtkkGEuRPXgRz6Usb"
   ]
  },
  {
   "cell_type": "code",
   "execution_count": null,
   "metadata": {},
   "outputs": [],
   "source": [
    "from pyngrok import ngrok\n",
    "ngrok_tunnel = ngrok.connect(8501)\n",
    "print('Public URL:', ngrok_tunnel.public_url)"
   ]
  },
  {
   "cell_type": "code",
   "execution_count": null,
   "metadata": {},
   "outputs": [],
   "source": [
    "from pyngrok import ngrok\n",
    "ngrok.kill()"
   ]
  },
  {
   "cell_type": "code",
   "execution_count": null,
   "metadata": {},
   "outputs": [],
   "source": [
    "!pkill -f ngrok"
   ]
  },
  {
   "cell_type": "code",
   "execution_count": null,
   "metadata": {},
   "outputs": [],
   "source": [
    "!pip install rdkit-pypi"
   ]
  },
  {
   "cell_type": "code",
   "execution_count": null,
   "metadata": {},
   "outputs": [],
   "source": [
    "import pandas as pd\n",
    "from rdkit import Chem\n",
    "from rdkit.Chem import Draw\n",
    "import numpy as np\n",
    "import requests\n",
    "import matplotlib.pyplot as plt\n",
    "import io\n",
    "import base64\n",
    "from IPython.core.display import HTML\n",
    "\n",
    "# API URL\n",
    "url = \"http://127.0.0.1:3000/predict\"\n",
    "\n",
    "# Input data\n",
    "solute_smiles = 'CC(C)(C)Br'  # Example solute SMILES\n",
    "solvent_smiles = 'COc1ccc(cc1C=O)O'  # Example solvent SMILES\n",
    "\n",
    "# Sending GET request\n",
    "params = {\n",
    "    \"solute\": solute_smiles,\n",
    "    \"solvent\": solvent_smiles\n",
    "}\n",
    "response = requests.get(url, params=params)\n",
    "\n",
    "if response.status_code == 200:\n",
    "    result = response.json()['result']\n",
    "    delta_g = result['predictions']\n",
    "    interaction_map = np.array(result['interaction_map'])\n",
    "    print(f\"Predicted Solubility (ΔGsolv): {delta_g:.2f} kcal/mol\")\n",
    "else:\n",
    "    print(\"GET Request Failed with status code:\", response.status_code)\n",
    "    exit()\n",
    "\n",
    "# Helper function to generate base64-encoded molecular images\n",
    "def smi_to_img_tag(smi: str) -> str:\n",
    "    mol = Chem.MolFromSmiles(smi)\n",
    "    if mol is None:\n",
    "        return \"\"\n",
    "    pil_image = Draw.MolToImage(mol)\n",
    "    with io.BytesIO() as buffer:\n",
    "        pil_image.save(buffer, format=\"PNG\")\n",
    "        img_str = base64.b64encode(buffer.getvalue()).decode(\"utf-8\")\n",
    "    return f'<img src=\"data:image/png;base64,{img_str}\" width=\"150\"/>'\n",
    "\n",
    "# Helper function to create a heatmap and return as a base64-encoded image\n",
    "def interaction_map_to_img_tag(interaction_map, solute_atoms, solvent_atoms) -> str:\n",
    "    fig, ax = plt.subplots(figsize=(5, 5))\n",
    "    heatmap = ax.imshow(interaction_map, cmap='viridis', interpolation='nearest')\n",
    "\n",
    "    # Add labels for atoms on x and y axes\n",
    "    ax.set_xticks(range(len(solvent_atoms)))\n",
    "    ax.set_yticks(range(len(solute_atoms)))\n",
    "    ax.set_xticklabels(solvent_atoms, fontsize=8)\n",
    "    ax.set_yticklabels(solute_atoms, fontsize=8)\n",
    "    ax.set_xlabel(\"Solvent Atoms\")\n",
    "    ax.set_ylabel(\"Solute Atoms\")\n",
    "    plt.colorbar(heatmap, ax=ax, fraction=0.046, pad=0.04)\n",
    "\n",
    "    # Save the heatmap as a base64-encoded image\n",
    "    with io.BytesIO() as buffer:\n",
    "        plt.savefig(buffer, format=\"PNG\", bbox_inches='tight')\n",
    "        buffer.seek(0)\n",
    "        img_str = base64.b64encode(buffer.getvalue()).decode(\"utf-8\")\n",
    "    plt.close(fig)\n",
    "    return f'<img src=\"data:image/png;base64,{img_str}\" width=\"300\"/>'\n",
    "\n",
    "# Generate atom labels for solute and solvent\n",
    "solute_mol = Chem.MolFromSmiles(solute_smiles)\n",
    "solvent_mol = Chem.MolFromSmiles(solvent_smiles)\n",
    "solute_atoms = [atom.GetSymbol() for atom in solute_mol.GetAtoms()]\n",
    "solvent_atoms = [atom.GetSymbol() for atom in solvent_mol.GetAtoms()]\n",
    "\n",
    "# Generate a heatmap image\n",
    "heatmap_img = interaction_map_to_img_tag(interaction_map, solute_atoms, solvent_atoms)\n",
    "\n",
    "# Prepare the DataFrame\n",
    "df = pd.DataFrame({\n",
    "    \"Solute SMILES\": [solute_smiles],\n",
    "    \"Solvent SMILES\": [solvent_smiles],\n",
    "    \"Predicted ΔGsolv (kcal/mol)\": [delta_g],\n",
    "    \"Solute Image\": [smi_to_img_tag(solute_smiles)],\n",
    "    \"Solvent Image\": [smi_to_img_tag(solvent_smiles)],\n",
    "    \"Interaction Map\": [heatmap_img]\n",
    "})\n",
    "\n",
    "# Render the DataFrame as an HTML table\n",
    "def render_html_table(df):\n",
    "    html = \"<table style='border-collapse: collapse; width: 100%;'>\"\n",
    "    html += \"<tr style='background-color: lightblue;'>\" + \"\".join([f\"<th>{col}</th>\" for col in df.columns]) + \"</tr>\"\n",
    "    for _, row in df.iterrows():\n",
    "        html += \"<tr>\"\n",
    "        for col in df.columns:\n",
    "            html += f\"<td style='text-align: center;'>{row[col]}</td>\"\n",
    "        html += \"</tr>\"\n",
    "    html += \"</table>\"\n",
    "    return HTML(html)\n",
    "\n",
    "# Display the table with heatmap in Jupyter Notebook\n",
    "render_html_table(df)\n"
   ]
  }
 ],
 "metadata": {
  "language_info": {
   "name": "python"
  }
 },
 "nbformat": 4,
 "nbformat_minor": 2
}
